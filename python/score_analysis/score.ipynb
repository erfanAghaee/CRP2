{
 "cells": [
  {
   "cell_type": "code",
   "execution_count": 306,
   "metadata": {},
   "outputs": [],
   "source": [
    "import pandas as pd\n",
    "import numpy as np\n",
    "import xlsxwriter"
   ]
  },
  {
   "cell_type": "code",
   "execution_count": 307,
   "metadata": {},
   "outputs": [],
   "source": [
    "flow_naming = {\n",
    "    \"PL: Contest; GR: Contest; DR: DRCU\" : \"Con+Con+DRCU\",\n",
    "    \"PL: CRP(10); GR: CRP(10); DR: Triton (path_cost; PR last iteration of GR is applied)\" : \"Con+CRP10(PathCost)+Triton\",\n",
    "    \"PL: CRP(1); GR: CRP(1); DR: Triton (path_cost; PR last iteration of GR is applied)\" : \"Con+CRP1(PathCost)+Triton\",\n",
    "    \"PL: Contest; GR: CUGR; DR: Triton\" : \"Con+CUGR+Triton\",\n",
    "    \"PL: Contest; GR: Contest; DR: Triton\" : \"Con+Con+Triton\",\n",
    "    \"PL: Eh?Placer; GR: CUGR; DR: Triton\" : \"Con+EhPlacer+CUGR+Triton\",\n",
    "    \"PL: DreamPlace; GR: CUGR; DR: Triton\" : \"Con+DreamPlacer+CUGR+Triton\",\n",
    "    \"PL: ILP-Based; GR: ILP-based; DR: Triton\" : \"Con+ILP-based+Triton\",\n",
    "    \"PL: CRP(10); GR: CRP(10); DR: Triton (wl_abs_cost; PR first iteration of GR is applied)\" : \"Con+CRP10(WLCost)+Triton\",\n",
    "    \"PL: Contest; GR: Contest; DR: LuLuRoute\" : \"Con+Con+LuLu\"\n",
    "}"
   ]
  },
  {
   "cell_type": "code",
   "execution_count": null,
   "metadata": {},
   "outputs": [],
   "source": [
    "\n",
    "\n",
    "def getGap(x):\n",
    "    \n",
    "    print(x)\n",
    "    # print(len(x))\n",
    "    gaps = []\n",
    "    gaps.append(0)\n",
    "    for i in range(1,len(x)):\n",
    "        # print(x)\n",
    "        if((x[i] != \"dnf\") and (x[i] != \"na\")):\n",
    "            expr = (int(x[i]) - int(x[0]))\n",
    "            gaps.append(expr)\n",
    "        else:\n",
    "            if(x[i] != \"dnf\"):\n",
    "                gaps.append(\"dnf\")\n",
    "            elif(x[i] != \"na\"): \n",
    "                gaps.append(\"na\")\n",
    "\n",
    "    return gaps\n",
    "\n",
    "def getNumeric(val):\n",
    "    if((val == \"dnf\") or ( val == \"na\")):\n",
    "        return float('inf')\n",
    "    else:\n",
    "        return int(val)\n",
    "    \n",
    "    \n",
    "def getMetric(benchs,metric):\n",
    "    dfs = []\n",
    "    for grp in benchs.groups:\n",
    "    \n",
    "        df = benchs.get_group(grp)\n",
    "        # print(grp)\n",
    "            # print( df)\n",
    "        df['score_num'] = df.apply(lambda row: getNumeric(row[metric]),axis=1)\n",
    "            \n",
    "        df = df.sort_values(by=[\"score_num\"])\n",
    "\n",
    "        df_new = df[[\"benchmark\",\"flow\",metric]].reset_index(drop=True)\n",
    "        len(\"len: \",len(df_new[\"gap\"]),\", lenGetGaps: \",len(getGap(df_new[metric].values)))\n",
    "        df_new[\"gap\"] = getGap(df_new[metric].values)\n",
    "        df_new[\"rank\"] = np.arange(1,len(df_new)+1,dtype=int)\n",
    "\n",
    "        df_new = pd.DataFrame(df_new,columns = [\"benchmark\",\"rank\",\"flow\",metric,\"gap\"])\n",
    "        # \n",
    "        dfs.append(df_new)\n",
    "\n",
    "\n",
    "    df = pd.concat(dfs)\n",
    "    a = df[\"benchmark\"].values\n",
    "    new_idx = [int(i.split(\"ispd18_test\")[-1]) for i in a]\n",
    "    df[\"index\"] =new_idx\n",
    "    df = df.sort_values(by=[\"index\",\"rank\"])\n",
    "    df = df.drop([\"index\"],axis=1)\n",
    "    return df\n",
    "\n",
    "\n",
    "def changeNamingFlowFunc(row):\n",
    "    return flow_naming[row]\n",
    "\n",
    "def changeNamingFlow(df):\n",
    "    df[\"flow\"] = df.apply(lambda row: changeNamingFlowFunc(row[\"flow\"]),axis=1)\n",
    "\n",
    "def getOddEven(df_score):\n",
    "    df_score_odd = df_score.loc[(df_score.benchmark==\"ispd18_test1\") | \\\n",
    "    (df_score.benchmark==\"ispd18_test3\") | \\\n",
    "    (df_score.benchmark==\"ispd18_test5\") | \\\n",
    "    (df_score.benchmark==\"ispd18_test7\") | \\\n",
    "    (df_score.benchmark==\"ispd18_test9\") ]\n",
    "    df_score_even = df_score.loc[(df_score.benchmark==\"ispd18_test2\") | \\\n",
    "        (df_score.benchmark==\"ispd18_test4\") | \\\n",
    "        (df_score.benchmark==\"ispd18_test6\") | \\\n",
    "        (df_score.benchmark==\"ispd18_test8\") | \\\n",
    "        (df_score.benchmark==\"ispd18_test10\") ]\n",
    "    return df_score_odd,df_score_even\n",
    "\n",
    "def fitCols(writer,df,name):\n",
    "    for column in df:\n",
    "        column_width = max(df[column].astype(str).map(len).max(), len(column))\n",
    "        col_idx = df.columns.get_loc(column)\n",
    "        writer.sheets[name].set_column(col_idx, col_idx, column_width)\n",
    "\n",
    "\n",
    "def writeToExcel(writer,df_odd,df_even,name,caption,row):\n",
    "    df_odd.to_excel(writer, sheet_name=name, index=False,startrow=row)\n",
    "    df_even.to_excel(writer, sheet_name=name, index=False,startrow=row,startcol=len(df_odd.columns))\n",
    "    workbook  = writer.book\n",
    "    worksheet = writer.sheets[name]\n",
    "    worksheet.write('A1', caption)\n",
    "\n",
    "    my_format = workbook.add_format()\n",
    "    my_format.set_align('right')\n",
    "\n",
    "    worksheet.set_column('D:E', None, my_format)\n",
    "    worksheet.set_column('I:J', None, my_format)\n",
    "\n",
    "\n",
    "    fitCols(writer,df_even,name)\n",
    "    fitCols(writer,df_odd,name)\n",
    "    \n",
    "\n",
    "def writeToExcelAll(writer,df_odd,df_even,name,caption):\n",
    "    df_odd_grps = df_odd.groupby([\"benchmark\"])\n",
    "    df_even_grps = df_even.groupby([\"benchmark\"])\n",
    "    benchs_odd = [\"ispd18_test1\",\"ispd18_test3\",\"ispd18_test5\",\"ispd18_test7\",\"ispd18_test9\"]\n",
    "    benchs_even = [\"ispd18_test2\",\"ispd18_test4\",\"ispd18_test6\",\"ispd18_test8\",\"ispd18_test10\"]\n",
    "    \n",
    "    row = 2\n",
    "    for i in range(len(benchs_even)):\n",
    "        df_odd_tmp = df_odd_grps.get_group(benchs_odd[i])\n",
    "        df_even_tmp = df_even_grps.get_group(benchs_even[i])\n",
    "        writeToExcel(writer,df_odd_tmp,df_even_tmp,name,caption,row)\n",
    "\n",
    "\n",
    "        row = row + len(df_odd_tmp)+2\n",
    "    \n",
    "    workbook  = writer.book\n",
    "    worksheet = writer.sheets[name]\n",
    "    merge_format = workbook.add_format({\n",
    "        'align': 'center',\n",
    "        'valign': 'vcenter'})\n",
    "\n",
    "    worksheet.merge_range('B2:E2', 'ispd18_test1', merge_format)\n",
    "    worksheet.merge_range('G2:J2', 'ispd18_test2', merge_format)\n",
    "    worksheet.merge_range('B14:E14', 'ispd18_test3', merge_format)\n",
    "    worksheet.merge_range('G14:J14', 'ispd18_test4', merge_format)\n",
    "    worksheet.merge_range('B26:E26', 'ispd18_test5', merge_format)\n",
    "    worksheet.merge_range('G26:J26', 'ispd18_test6', merge_format)\n",
    "    worksheet.merge_range('B38:E38', 'ispd18_test7', merge_format)\n",
    "    worksheet.merge_range('G38:J38', 'ispd18_test8', merge_format)\n",
    "    worksheet.merge_range('B50:E50', 'ispd18_test9', merge_format)\n",
    "    worksheet.merge_range('G50:J50', 'ispd18_test10', merge_format)\n",
    "    \n",
    "\n"
   ]
  },
  {
   "cell_type": "code",
   "execution_count": 330,
   "metadata": {},
   "outputs": [
    {
     "name": "stdout",
     "output_type": "stream",
     "text": [
      "wl_gr\n"
     ]
    },
    {
     "name": "stderr",
     "output_type": "stream",
     "text": [
      "<ipython-input-329-7e00e6e61637>:34: SettingWithCopyWarning: \n",
      "A value is trying to be set on a copy of a slice from a DataFrame.\n",
      "Try using .loc[row_indexer,col_indexer] = value instead\n",
      "\n",
      "See the caveats in the documentation: https://pandas.pydata.org/pandas-docs/stable/user_guide/indexing.html#returning-a-view-versus-a-copy\n",
      "  df['score_num'] = df.apply(lambda row: getNumeric(row[metric]),axis=1)\n"
     ]
    },
    {
     "name": "stdout",
     "output_type": "stream",
     "text": [
      "['415336' '416257' '416266' '416426' '429522' '431232' '434140' 'na' 'na'\n",
      " 'na']\n",
      "['65805600' '65816600' '65832800' '79218700' 'na' 'na' 'na' 'dnf' 'dnf'\n",
      " 'dnf']\n"
     ]
    },
    {
     "ename": "ValueError",
     "evalue": "Length of values does not match length of index",
     "output_type": "error",
     "traceback": [
      "\u001b[0;31m---------------------------------------------------------------------------\u001b[0m",
      "\u001b[0;31mValueError\u001b[0m                                Traceback (most recent call last)",
      "\u001b[0;32m<ipython-input-330-052774d4305b>\u001b[0m in \u001b[0;36m<module>\u001b[0;34m\u001b[0m\n\u001b[1;32m     10\u001b[0m \u001b[0;32mfor\u001b[0m \u001b[0mcol\u001b[0m \u001b[0;32min\u001b[0m \u001b[0mall_tables\u001b[0m\u001b[0;34m:\u001b[0m\u001b[0;34m\u001b[0m\u001b[0;34m\u001b[0m\u001b[0m\n\u001b[1;32m     11\u001b[0m     \u001b[0mprint\u001b[0m\u001b[0;34m(\u001b[0m\u001b[0mcol\u001b[0m\u001b[0;34m)\u001b[0m\u001b[0;34m\u001b[0m\u001b[0;34m\u001b[0m\u001b[0m\n\u001b[0;32m---> 12\u001b[0;31m     \u001b[0mdf_score\u001b[0m \u001b[0;34m=\u001b[0m \u001b[0mgetMetric\u001b[0m\u001b[0;34m(\u001b[0m\u001b[0mbenchs\u001b[0m\u001b[0;34m=\u001b[0m\u001b[0mbenchs\u001b[0m\u001b[0;34m,\u001b[0m\u001b[0mmetric\u001b[0m\u001b[0;34m=\u001b[0m\u001b[0mcol\u001b[0m\u001b[0;34m)\u001b[0m\u001b[0;34m\u001b[0m\u001b[0;34m\u001b[0m\u001b[0m\n\u001b[0m\u001b[1;32m     13\u001b[0m     \u001b[0mchangeNamingFlow\u001b[0m\u001b[0;34m(\u001b[0m\u001b[0mdf_score\u001b[0m\u001b[0;34m)\u001b[0m\u001b[0;34m\u001b[0m\u001b[0;34m\u001b[0m\u001b[0m\n\u001b[1;32m     14\u001b[0m     \u001b[0mdf_score_odd\u001b[0m\u001b[0;34m,\u001b[0m \u001b[0mdf_score_even\u001b[0m \u001b[0;34m=\u001b[0m \u001b[0mgetOddEven\u001b[0m\u001b[0;34m(\u001b[0m\u001b[0mdf_score\u001b[0m\u001b[0;34m=\u001b[0m\u001b[0mdf_score\u001b[0m\u001b[0;34m)\u001b[0m\u001b[0;34m\u001b[0m\u001b[0;34m\u001b[0m\u001b[0m\n",
      "\u001b[0;32m<ipython-input-329-7e00e6e61637>\u001b[0m in \u001b[0;36mgetMetric\u001b[0;34m(benchs, metric)\u001b[0m\n\u001b[1;32m     37\u001b[0m \u001b[0;34m\u001b[0m\u001b[0m\n\u001b[1;32m     38\u001b[0m         \u001b[0mdf_new\u001b[0m \u001b[0;34m=\u001b[0m \u001b[0mdf\u001b[0m\u001b[0;34m[\u001b[0m\u001b[0;34m[\u001b[0m\u001b[0;34m\"benchmark\"\u001b[0m\u001b[0;34m,\u001b[0m\u001b[0;34m\"flow\"\u001b[0m\u001b[0;34m,\u001b[0m\u001b[0mmetric\u001b[0m\u001b[0;34m]\u001b[0m\u001b[0;34m]\u001b[0m\u001b[0;34m.\u001b[0m\u001b[0mreset_index\u001b[0m\u001b[0;34m(\u001b[0m\u001b[0mdrop\u001b[0m\u001b[0;34m=\u001b[0m\u001b[0;32mTrue\u001b[0m\u001b[0;34m)\u001b[0m\u001b[0;34m\u001b[0m\u001b[0;34m\u001b[0m\u001b[0m\n\u001b[0;32m---> 39\u001b[0;31m         \u001b[0mdf_new\u001b[0m\u001b[0;34m[\u001b[0m\u001b[0;34m\"gap\"\u001b[0m\u001b[0;34m]\u001b[0m \u001b[0;34m=\u001b[0m \u001b[0mgetGap\u001b[0m\u001b[0;34m(\u001b[0m\u001b[0mdf_new\u001b[0m\u001b[0;34m[\u001b[0m\u001b[0mmetric\u001b[0m\u001b[0;34m]\u001b[0m\u001b[0;34m.\u001b[0m\u001b[0mvalues\u001b[0m\u001b[0;34m)\u001b[0m\u001b[0;34m\u001b[0m\u001b[0;34m\u001b[0m\u001b[0m\n\u001b[0m\u001b[1;32m     40\u001b[0m         \u001b[0mdf_new\u001b[0m\u001b[0;34m[\u001b[0m\u001b[0;34m\"rank\"\u001b[0m\u001b[0;34m]\u001b[0m \u001b[0;34m=\u001b[0m \u001b[0mnp\u001b[0m\u001b[0;34m.\u001b[0m\u001b[0marange\u001b[0m\u001b[0;34m(\u001b[0m\u001b[0;36m1\u001b[0m\u001b[0;34m,\u001b[0m\u001b[0mlen\u001b[0m\u001b[0;34m(\u001b[0m\u001b[0mdf_new\u001b[0m\u001b[0;34m)\u001b[0m\u001b[0;34m+\u001b[0m\u001b[0;36m1\u001b[0m\u001b[0;34m,\u001b[0m\u001b[0mdtype\u001b[0m\u001b[0;34m=\u001b[0m\u001b[0mint\u001b[0m\u001b[0;34m)\u001b[0m\u001b[0;34m\u001b[0m\u001b[0;34m\u001b[0m\u001b[0m\n\u001b[1;32m     41\u001b[0m \u001b[0;34m\u001b[0m\u001b[0m\n",
      "\u001b[0;32m/media/erfan/My_Passport/anaconda/lib/python3.8/site-packages/pandas/core/frame.py\u001b[0m in \u001b[0;36m__setitem__\u001b[0;34m(self, key, value)\u001b[0m\n\u001b[1;32m   2936\u001b[0m         \u001b[0;32melse\u001b[0m\u001b[0;34m:\u001b[0m\u001b[0;34m\u001b[0m\u001b[0;34m\u001b[0m\u001b[0m\n\u001b[1;32m   2937\u001b[0m             \u001b[0;31m# set column\u001b[0m\u001b[0;34m\u001b[0m\u001b[0;34m\u001b[0m\u001b[0;34m\u001b[0m\u001b[0m\n\u001b[0;32m-> 2938\u001b[0;31m             \u001b[0mself\u001b[0m\u001b[0;34m.\u001b[0m\u001b[0m_set_item\u001b[0m\u001b[0;34m(\u001b[0m\u001b[0mkey\u001b[0m\u001b[0;34m,\u001b[0m \u001b[0mvalue\u001b[0m\u001b[0;34m)\u001b[0m\u001b[0;34m\u001b[0m\u001b[0;34m\u001b[0m\u001b[0m\n\u001b[0m\u001b[1;32m   2939\u001b[0m \u001b[0;34m\u001b[0m\u001b[0m\n\u001b[1;32m   2940\u001b[0m     \u001b[0;32mdef\u001b[0m \u001b[0m_setitem_slice\u001b[0m\u001b[0;34m(\u001b[0m\u001b[0mself\u001b[0m\u001b[0;34m,\u001b[0m \u001b[0mkey\u001b[0m\u001b[0;34m,\u001b[0m \u001b[0mvalue\u001b[0m\u001b[0;34m)\u001b[0m\u001b[0;34m:\u001b[0m\u001b[0;34m\u001b[0m\u001b[0;34m\u001b[0m\u001b[0m\n",
      "\u001b[0;32m/media/erfan/My_Passport/anaconda/lib/python3.8/site-packages/pandas/core/frame.py\u001b[0m in \u001b[0;36m_set_item\u001b[0;34m(self, key, value)\u001b[0m\n\u001b[1;32m   2998\u001b[0m \u001b[0;34m\u001b[0m\u001b[0m\n\u001b[1;32m   2999\u001b[0m         \u001b[0mself\u001b[0m\u001b[0;34m.\u001b[0m\u001b[0m_ensure_valid_index\u001b[0m\u001b[0;34m(\u001b[0m\u001b[0mvalue\u001b[0m\u001b[0;34m)\u001b[0m\u001b[0;34m\u001b[0m\u001b[0;34m\u001b[0m\u001b[0m\n\u001b[0;32m-> 3000\u001b[0;31m         \u001b[0mvalue\u001b[0m \u001b[0;34m=\u001b[0m \u001b[0mself\u001b[0m\u001b[0;34m.\u001b[0m\u001b[0m_sanitize_column\u001b[0m\u001b[0;34m(\u001b[0m\u001b[0mkey\u001b[0m\u001b[0;34m,\u001b[0m \u001b[0mvalue\u001b[0m\u001b[0;34m)\u001b[0m\u001b[0;34m\u001b[0m\u001b[0;34m\u001b[0m\u001b[0m\n\u001b[0m\u001b[1;32m   3001\u001b[0m         \u001b[0mNDFrame\u001b[0m\u001b[0;34m.\u001b[0m\u001b[0m_set_item\u001b[0m\u001b[0;34m(\u001b[0m\u001b[0mself\u001b[0m\u001b[0;34m,\u001b[0m \u001b[0mkey\u001b[0m\u001b[0;34m,\u001b[0m \u001b[0mvalue\u001b[0m\u001b[0;34m)\u001b[0m\u001b[0;34m\u001b[0m\u001b[0;34m\u001b[0m\u001b[0m\n\u001b[1;32m   3002\u001b[0m \u001b[0;34m\u001b[0m\u001b[0m\n",
      "\u001b[0;32m/media/erfan/My_Passport/anaconda/lib/python3.8/site-packages/pandas/core/frame.py\u001b[0m in \u001b[0;36m_sanitize_column\u001b[0;34m(self, key, value, broadcast)\u001b[0m\n\u001b[1;32m   3634\u001b[0m \u001b[0;34m\u001b[0m\u001b[0m\n\u001b[1;32m   3635\u001b[0m             \u001b[0;31m# turn me into an ndarray\u001b[0m\u001b[0;34m\u001b[0m\u001b[0;34m\u001b[0m\u001b[0;34m\u001b[0m\u001b[0m\n\u001b[0;32m-> 3636\u001b[0;31m             \u001b[0mvalue\u001b[0m \u001b[0;34m=\u001b[0m \u001b[0msanitize_index\u001b[0m\u001b[0;34m(\u001b[0m\u001b[0mvalue\u001b[0m\u001b[0;34m,\u001b[0m \u001b[0mself\u001b[0m\u001b[0;34m.\u001b[0m\u001b[0mindex\u001b[0m\u001b[0;34m,\u001b[0m \u001b[0mcopy\u001b[0m\u001b[0;34m=\u001b[0m\u001b[0;32mFalse\u001b[0m\u001b[0;34m)\u001b[0m\u001b[0;34m\u001b[0m\u001b[0;34m\u001b[0m\u001b[0m\n\u001b[0m\u001b[1;32m   3637\u001b[0m             \u001b[0;32mif\u001b[0m \u001b[0;32mnot\u001b[0m \u001b[0misinstance\u001b[0m\u001b[0;34m(\u001b[0m\u001b[0mvalue\u001b[0m\u001b[0;34m,\u001b[0m \u001b[0;34m(\u001b[0m\u001b[0mnp\u001b[0m\u001b[0;34m.\u001b[0m\u001b[0mndarray\u001b[0m\u001b[0;34m,\u001b[0m \u001b[0mIndex\u001b[0m\u001b[0;34m)\u001b[0m\u001b[0;34m)\u001b[0m\u001b[0;34m:\u001b[0m\u001b[0;34m\u001b[0m\u001b[0;34m\u001b[0m\u001b[0m\n\u001b[1;32m   3638\u001b[0m                 \u001b[0;32mif\u001b[0m \u001b[0misinstance\u001b[0m\u001b[0;34m(\u001b[0m\u001b[0mvalue\u001b[0m\u001b[0;34m,\u001b[0m \u001b[0mlist\u001b[0m\u001b[0;34m)\u001b[0m \u001b[0;32mand\u001b[0m \u001b[0mlen\u001b[0m\u001b[0;34m(\u001b[0m\u001b[0mvalue\u001b[0m\u001b[0;34m)\u001b[0m \u001b[0;34m>\u001b[0m \u001b[0;36m0\u001b[0m\u001b[0;34m:\u001b[0m\u001b[0;34m\u001b[0m\u001b[0;34m\u001b[0m\u001b[0m\n",
      "\u001b[0;32m/media/erfan/My_Passport/anaconda/lib/python3.8/site-packages/pandas/core/internals/construction.py\u001b[0m in \u001b[0;36msanitize_index\u001b[0;34m(data, index, copy)\u001b[0m\n\u001b[1;32m    609\u001b[0m \u001b[0;34m\u001b[0m\u001b[0m\n\u001b[1;32m    610\u001b[0m     \u001b[0;32mif\u001b[0m \u001b[0mlen\u001b[0m\u001b[0;34m(\u001b[0m\u001b[0mdata\u001b[0m\u001b[0;34m)\u001b[0m \u001b[0;34m!=\u001b[0m \u001b[0mlen\u001b[0m\u001b[0;34m(\u001b[0m\u001b[0mindex\u001b[0m\u001b[0;34m)\u001b[0m\u001b[0;34m:\u001b[0m\u001b[0;34m\u001b[0m\u001b[0;34m\u001b[0m\u001b[0m\n\u001b[0;32m--> 611\u001b[0;31m         \u001b[0;32mraise\u001b[0m \u001b[0mValueError\u001b[0m\u001b[0;34m(\u001b[0m\u001b[0;34m\"Length of values does not match length of index\"\u001b[0m\u001b[0;34m)\u001b[0m\u001b[0;34m\u001b[0m\u001b[0;34m\u001b[0m\u001b[0m\n\u001b[0m\u001b[1;32m    612\u001b[0m \u001b[0;34m\u001b[0m\u001b[0m\n\u001b[1;32m    613\u001b[0m     \u001b[0;32mif\u001b[0m \u001b[0misinstance\u001b[0m\u001b[0;34m(\u001b[0m\u001b[0mdata\u001b[0m\u001b[0;34m,\u001b[0m \u001b[0mABCIndexClass\u001b[0m\u001b[0;34m)\u001b[0m \u001b[0;32mand\u001b[0m \u001b[0;32mnot\u001b[0m \u001b[0mcopy\u001b[0m\u001b[0;34m:\u001b[0m\u001b[0;34m\u001b[0m\u001b[0;34m\u001b[0m\u001b[0m\n",
      "\u001b[0;31mValueError\u001b[0m: Length of values does not match length of index"
     ]
    }
   ],
   "source": [
    "ispd18 = pd.read_csv(\"ispd18_scores.csv\")\n",
    "benchs = ispd18.groupby([\"benchmark\"])\n",
    "writer = pd.ExcelWriter('ispd18_scores.xlsx', engine='xlsxwriter')\n",
    "\n",
    "all_tables = ['wl_gr', 'vias_gr', 'time_gr', 'mem_gr',\n",
    "       'wl_dr', 'vias_dr', 'OFGW', 'OFGV', 'OFTW', 'OFTV', 'WWW', 'short_area',\n",
    "       'min_area', 'spacing', 'score', 'time_dr', 'time_mem']\n",
    "\n",
    "\n",
    "for col in all_tables:\n",
    "    print(col)\n",
    "    df_score = getMetric(benchs=benchs,metric=col)\n",
    "    changeNamingFlow(df_score)\n",
    "    df_score_odd, df_score_even = getOddEven(df_score=df_score)\n",
    "\n",
    "    writeToExcelAll(writer,df_score_odd,df_score_even,name=\"ispd18_\"+col,caption=\"Ranking \" + col)    \n",
    "    \n",
    "writer.save()"
   ]
  },
  {
   "cell_type": "code",
   "execution_count": 285,
   "metadata": {},
   "outputs": [
    {
     "data": {
      "text/plain": [
       "Index(['benchmark', 'exp', 'flow', 'wl_gr', 'vias_gr', 'time_gr', 'mem_gr',\n",
       "       'wl_dr', 'vias_dr', 'OFGW', 'OFGV', 'OFTW', 'OFTV', 'WWW', 'short_area',\n",
       "       'min_area', 'spacing', 'score', 'time_dr', 'time_mem'],\n",
       "      dtype='object')"
      ]
     },
     "execution_count": 285,
     "metadata": {},
     "output_type": "execute_result"
    }
   ],
   "source": [
    "ispd18.columns"
   ]
  },
  {
   "cell_type": "code",
   "execution_count": null,
   "metadata": {},
   "outputs": [],
   "source": [
    "\n",
    "\n",
    "\n"
   ]
  }
 ],
 "metadata": {
  "interpreter": {
   "hash": "916dbcbb3f70747c44a77c7bcd40155683ae19c65e1c03b4aa3499c5328201f1"
  },
  "kernelspec": {
   "display_name": "Python 3.8.10 64-bit",
   "language": "python",
   "name": "python3"
  },
  "language_info": {
   "codemirror_mode": {
    "name": "ipython",
    "version": 3
   },
   "file_extension": ".py",
   "mimetype": "text/x-python",
   "name": "python",
   "nbconvert_exporter": "python",
   "pygments_lexer": "ipython3",
   "version": "3.8.3"
  },
  "orig_nbformat": 4
 },
 "nbformat": 4,
 "nbformat_minor": 2
}
