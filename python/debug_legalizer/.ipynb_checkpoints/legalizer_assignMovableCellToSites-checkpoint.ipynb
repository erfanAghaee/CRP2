{
 "cells": [
  {
   "cell_type": "code",
   "execution_count": 19,
   "metadata": {},
   "outputs": [],
   "source": [
    "import numpy as np\n",
    "from operator import xor\n"
   ]
  },
  {
   "cell_type": "code",
   "execution_count": 132,
   "metadata": {},
   "outputs": [
    {
     "name": "stdout",
     "output_type": "stream",
     "text": [
      "5 2\n",
      "1\n",
      "n:  3 , reminder:  1 empty_w:  5 , empty_offset:  2.5\n",
      "i:  0 , emptySW:  True\n",
      "rnd_por: 1\n",
      "idx:  2\n",
      "i:  1 , emptySW:  False\n",
      "idx:  2 cell_w:  5\n",
      "idx:  7\n",
      "i:  2 , emptySW:  True\n",
      "idx:  9\n",
      "_ _ X X X X X _ _ _ "
     ]
    }
   ],
   "source": [
    "num_sites = 10\n",
    "arr = np.zeros(10)\n",
    "cell_w = [5]\n",
    "empty_w = num_sites\n",
    "for tmp in cell_w:\n",
    "    empty_w = empty_w - tmp\n",
    "num_line_seg = len(cell_w)\n",
    "num_empty_spot = num_line_seg + 1;\n",
    "empty_offset = empty_w / num_empty_spot;\n",
    "print(empty_w,num_empty_spot)\n",
    "reminder = empty_w % num_empty_spot;\n",
    "print(reminder)\n",
    "n = num_line_seg + num_empty_spot;\n",
    "idx = 0;\n",
    "seg_start = 0\n",
    "seg_stop = 10\n",
    "\n",
    "emptySw = True\n",
    "i_order = 0\n",
    "idx = 0\n",
    "print(\"n: \",n,\", reminder: \", reminder,\"empty_w: \",empty_w,\", empty_offset: \",empty_offset)\n",
    "for i in range(n):\n",
    "    print(\"i: \",i, \", emptySW: \", emptySw)\n",
    "    if(idx > seg_stop):\n",
    "        continue\n",
    "    if(emptySw):\n",
    "        if(reminder>0):\n",
    "            rnd_por = np.random.randint(0,reminder+1)\n",
    "            reminder = reminder - rnd_por\n",
    "            print(\"rnd_por:\",rnd_por)\n",
    "        idx = int(idx + empty_offset + reminder)\n",
    "        print(\"idx: \",idx)\n",
    "    else:\n",
    "        print(\"idx: \", idx, \"cell_w: \",cell_w[i_order])\n",
    "        for (j) in range(idx,idx+cell_w[i_order]):\n",
    "            arr[j]=1\n",
    "        idx = int(idx + cell_w[i_order])\n",
    "        i_order+=1\n",
    "        print(\"idx: \",idx)\n",
    "    \n",
    "    emptySw = not(emptySw)\n",
    "        \n",
    "    \n",
    "    \n",
    "printArr(arr,num_sites)\n",
    "    "
   ]
  },
  {
   "cell_type": "code",
   "execution_count": 161,
   "metadata": {},
   "outputs": [],
   "source": [
    "def printArr(arr,num_sites):   \n",
    "    for i in range(num_sites):\n",
    "        if(arr[i]==\"_\"):\n",
    "            print(\"_\",end=\" \")\n",
    "        else:\n",
    "            print(arr[i],end=\" \")"
   ]
  },
  {
   "cell_type": "code",
   "execution_count": 202,
   "metadata": {},
   "outputs": [
    {
     "name": "stdout",
     "output_type": "stream",
     "text": [
      "c1 4 0\n",
      "c2 2 4\n",
      "c3 2 6\n"
     ]
    }
   ],
   "source": [
    "num_sites=10\n",
    "cells= [\"c1\",\"c2\",\"c3\"]\n",
    "cells_w = {\n",
    "    \"c1\":4,\n",
    "    \"c2\":2,\n",
    "    \"c3\":2,\n",
    "}\n",
    "weights ={\n",
    "    \"c1\":(-1,-1),\n",
    "    \"c2\":(-1,-1),\n",
    "    \"c3\":(-1,-1)\n",
    "}\n",
    "arr=[]\n",
    "for i in range(num_sites):\n",
    "    arr.append(\"_\")\n",
    "\n",
    "idx = 0\n",
    "for cell in cells:\n",
    "    print(cell,cells_w[cell],idx)\n",
    "    weights[cell]=(idx,idx+cells_w[cell]-1)\n",
    "\n",
    "    \n",
    "    idx = idx + cells_w[cell]\n",
    "    \n",
    "    \n",
    "empty_space = num_sites-np.sum(list(cells_w.values()))\n",
    "if(empty_space < 0):\n",
    "    print(\"invalid input\")\n",
    "\n",
    "\n",
    "for key in weights.keys():\n",
    "    weight = weights[key]\n",
    "    for i in range(weight[0],weight[1]+1):\n",
    "        arr[i]=key\n",
    "    \n",
    "# printArr(arr,num_sites)"
   ]
  },
  {
   "cell_type": "code",
   "execution_count": 203,
   "metadata": {},
   "outputs": [
    {
     "name": "stdout",
     "output_type": "stream",
     "text": [
      "{'c1': (0, 3), 'c2': (4, 5), 'c3': (6, 7)}\n"
     ]
    }
   ],
   "source": [
    "print(weights)"
   ]
  },
  {
   "cell_type": "code",
   "execution_count": 200,
   "metadata": {},
   "outputs": [
    {
     "name": "stdout",
     "output_type": "stream",
     "text": [
      "2 10\n",
      "3\n"
     ]
    }
   ],
   "source": [
    "# insert empty\n",
    "weights_empty = weights.copy()\n",
    "print(empty_space,num_sites)\n",
    "\n",
    "print(len(cells))"
   ]
  },
  {
   "cell_type": "code",
   "execution_count": 209,
   "metadata": {},
   "outputs": [
    {
     "name": "stdout",
     "output_type": "stream",
     "text": [
      "c1\n",
      "(1, 4)\n",
      "c2\n",
      "(5, 6)\n",
      "c3\n",
      "(6, 7)\n",
      "{'c1': (2, 5), 'c2': (13, 14), 'c3': (28, 29)}\n",
      "c1 4 0\n",
      "c2 2 4\n",
      "c3 2 6\n",
      "_ _ _ _ _ _ _ _ _ _ "
     ]
    }
   ],
   "source": [
    "reminder=empty_space\n",
    "idx = 0\n",
    "for cell in weights.keys():\n",
    "    print(cell)\n",
    "    print(weights[cell])\n",
    "    rnd = np.random.randint(0,reminder+1)\n",
    "    weights[cell]=(idx+weights[cell][0]+rnd,idx+weights[cell][1]+rnd)\n",
    "    idx=idx+weights[cell][1]+rnd\n",
    "print(weights)\n",
    "arr=[]\n",
    "for i in range(num_sites):\n",
    "    arr.append(\"_\")\n",
    "\n",
    "for key in weights.keys():\n",
    "    weight = weights[key]\n",
    "    for i in range(weight[0],weight[1]+1):\n",
    "        arr[i]=key\n",
    "    \n",
    "printArr(arr,num_sites)    "
   ]
  }
 ],
 "metadata": {
  "kernelspec": {
   "display_name": "Python 3",
   "language": "python",
   "name": "python3"
  },
  "language_info": {
   "codemirror_mode": {
    "name": "ipython",
    "version": 3
   },
   "file_extension": ".py",
   "mimetype": "text/x-python",
   "name": "python",
   "nbconvert_exporter": "python",
   "pygments_lexer": "ipython3",
   "version": "3.8.3"
  }
 },
 "nbformat": 4,
 "nbformat_minor": 4
}
